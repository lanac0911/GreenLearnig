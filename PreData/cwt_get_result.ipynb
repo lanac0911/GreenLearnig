{
 "cells": [
  {
   "cell_type": "code",
   "execution_count": null,
   "metadata": {},
   "outputs": [
    {
     "ename": "",
     "evalue": "",
     "output_type": "error",
     "traceback": [
      "\u001b[1;31mRunning cells with 'c:\\Users\\awinl\\.pyenv\\pyenv-win\\versions\\3.7.7\\python.exe' requires the ipykernel package.\n",
      "\u001b[1;31mRun the following command to install 'ipykernel' into the Python environment. \n",
      "\u001b[1;31mCommand: 'c:/Users/awinl/.pyenv/pyenv-win/versions/3.7.7/python.exe -m pip install ipykernel -U --force-reinstall'"
     ]
    }
   ],
   "source": [
    "import pandas as pd\n",
    "import os\n",
    "import parameter \n",
    "\n",
    "drive_path = \"../csv/Electricity_BME.csv\"\n",
    "label_txt_fileName = 'lable'\n",
    "# slice_len = 500\n",
    "slice_len =  parameter.split_size\n",
    "# 从CSV文件中读取数据\n",
    "df = pd.read_csv(drive_path)\n",
    "\n",
    "# 初始化一个空列表，用于存储每1000行的P列的平均值\n",
    "label = []\n",
    "\n",
    "# 每1000行分组计算平均值\n",
    "for i in range(0, len(df),slice_len):\n",
    "    group = df.iloc[i:i+slice_len]  # 获取每1000行数据\n",
    "    average_p = group[\"P\"].mean()  # 计算P列的平均值\n",
    "    label.append(average_p)  # 将平均值添加到label列 表中\n",
    "\n",
    "# 打印或使用label列表中的平均值\n",
    "print(len(label))\n",
    "print(label)\n",
    "\n",
    "# Open the file in write mode\n",
    "with open('../myData/Lable_Text/${}', 'w') as f:\n",
    "  # Write the entire list to the file as a string\n",
    "  f.write(str(label))"
   ]
  }
 ],
 "metadata": {
  "kernelspec": {
   "display_name": "Python 3",
   "language": "python",
   "name": "python3"
  },
  "language_info": {
   "name": "python",
   "version": "3.7.7"
  }
 },
 "nbformat": 4,
 "nbformat_minor": 2
}
